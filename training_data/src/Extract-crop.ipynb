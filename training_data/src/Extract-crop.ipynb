{
 "cells": [
  {
   "cell_type": "markdown",
   "metadata": {},
   "source": [
    "# Reference\n",
    "\n",
    "http://geospatialpython.com/2011/02/clip-raster-using-shapefile.html\n",
    "\n",
    "http://gis.stackexchange.com/questions/145015/is-it-possible-to-look-at-the-contents-of-shapefile-using-python-without-an-arcm/145029\n",
    "\n",
    "http://gis.stackexchange.com/questions/95160/union-multiple-shapefiles-with-overlapping-shapes\n",
    "\n",
    "http://stackoverflow.com/questions/14211340/automatically-cropping-an-image-with-python-pil\n",
    "\n",
    "http://stackoverflow.com/questions/15403580/extracting-a-subimage-in-shape-of-a-polygon"
   ]
  },
  {
   "cell_type": "code",
   "execution_count": 1,
   "metadata": {
    "collapsed": true
   },
   "outputs": [],
   "source": [
    "%matplotlib inline\n",
    "\n",
    "import matplotlib\n",
    "import numpy as np\n",
    "import matplotlib.pyplot as plt\n",
    "\n",
    "import operator\n",
    "from osgeo import gdal, gdalnumeric, ogr, osr\n",
    "import Image, ImageDraw\n",
    "# import geopandas as gp\n",
    "import json"
   ]
  },
  {
   "cell_type": "code",
   "execution_count": 3,
   "metadata": {
    "collapsed": false
   },
   "outputs": [],
   "source": [
    "# raster = '../../../Datasets/Fusion/FS2_G005_MS_L4f_20150122_merge2_ot_NC.tif'\n",
    "# # raster = '../../../tmp/sihu.tif'\n",
    "# shp = \"../preprocess_20150122/final/Sihu\"\n",
    "# output = \"../output/clip\"\n",
    "\n",
    "raster = '../../crop_img/normal/sihu_tmp.tif'"
   ]
  },
  {
   "cell_type": "code",
   "execution_count": 4,
   "metadata": {
    "collapsed": false
   },
   "outputs": [],
   "source": [
    "# Load the source data as a gdalnumeric array\n",
    "srcArray = gdalnumeric.LoadFile(raster)\n",
    "\n",
    "# Also load as a gdal image to get geotransform \n",
    "# (world file) info\n",
    "srcImage = gdal.Open(raster)\n",
    "geoTrans = srcImage.GetGeoTransform()"
   ]
  },
  {
   "cell_type": "code",
   "execution_count": 5,
   "metadata": {
    "collapsed": false
   },
   "outputs": [
    {
     "name": "stdout",
     "output_type": "stream",
     "text": [
      "(3, 4280, 5526)\n",
      "(164941.602510527, 2.0, 0.0, 2620419.960208477, 0.0, -2.0)\n"
     ]
    }
   ],
   "source": [
    "print srcArray.shape\n",
    "print geoTrans"
   ]
  },
  {
   "cell_type": "code",
   "execution_count": 6,
   "metadata": {
    "collapsed": false
   },
   "outputs": [],
   "source": [
    "# image_data = srcArray\n",
    "# image_data = srcArray.reshape(4280,5526,3)\n",
    "# image_data = srcArray\n",
    "image=Image.open('../../crop_img/normal/sihu_tmp.tif')\n",
    "image.load()\n",
    "image_data = np.asarray(image)"
   ]
  },
  {
   "cell_type": "code",
   "execution_count": 7,
   "metadata": {
    "collapsed": false
   },
   "outputs": [
    {
     "name": "stdout",
     "output_type": "stream",
     "text": [
      "(5526, 3)\n",
      "(4280, 3)\n",
      "(4280, 5526)\n"
     ]
    },
    {
     "data": {
      "text/plain": [
       "array([[0, 0, 0, ..., 0, 0, 0],\n",
       "       [0, 0, 0, ..., 0, 0, 0],\n",
       "       [0, 0, 0, ..., 0, 0, 0],\n",
       "       ..., \n",
       "       [0, 0, 0, ..., 0, 0, 0],\n",
       "       [0, 0, 0, ..., 0, 0, 0],\n",
       "       [0, 0, 0, ..., 0, 0, 0]], dtype=uint8)"
      ]
     },
     "execution_count": 7,
     "metadata": {},
     "output_type": "execute_result"
    }
   ],
   "source": [
    "print image_data.max(axis=0).shape\n",
    "print image_data.max(axis=1).shape\n",
    "print image_data.max(axis=2).shape\n",
    "image_data_bw = image_data.max(axis=2)\n",
    "image_data_bw"
   ]
  },
  {
   "cell_type": "code",
   "execution_count": 8,
   "metadata": {
    "collapsed": false
   },
   "outputs": [
    {
     "name": "stdout",
     "output_type": "stream",
     "text": [
      "(521,)\n"
     ]
    },
    {
     "data": {
      "text/plain": [
       "array([   0,    1,    2,    3,    4,    5,    6,    7,    8,    9,   10,\n",
       "         11,   12,   13,   14,   15,   16,   17,   18,   19,   20,   21,\n",
       "         22,   23,   24,   25,   26,   27,   28,   29,   30,   31,   32,\n",
       "         33,   34,   35,   36,   37,   38,  272,  273,  274,  275,  276,\n",
       "        277,  278,  279,  280,  281,  282,  283,  284,  285,  286,  287,\n",
       "        288,  289,  290,  291,  292,  293,  294,  295,  296,  297,  298,\n",
       "        299,  300,  301,  302,  367,  368,  369,  370,  371,  372,  373,\n",
       "        374,  375,  376,  377,  378,  379,  380,  381,  382,  383,  384,\n",
       "        385,  386,  387,  388,  389,  390,  391,  392,  393,  394,  395,\n",
       "        396,  397,  398,  399,  400,  401,  402,  403,  404,  405,  406,\n",
       "        407,  408,  409,  410,  411,  412,  413,  414,  415,  416,  417,\n",
       "        418,  419,  420,  421,  422,  423,  424,  425,  426,  427,  428,\n",
       "        429,  430,  431,  432,  433,  434,  435,  436,  437,  438,  439,\n",
       "        440,  441,  847,  848,  849,  850,  851,  852,  853,  854,  855,\n",
       "        856,  857,  858,  859,  860,  861,  862,  863,  864,  865,  866,\n",
       "        867,  868,  869,  870,  871,  872,  873,  874, 1082, 1083, 1084,\n",
       "       1085, 1086, 1087, 1088, 1089, 1090, 1091, 1092, 1093, 1094, 1943,\n",
       "       1944, 1945, 1946, 1947, 1948, 1949, 1950, 1951, 1952, 1953, 1954,\n",
       "       1955, 1956, 1957, 1958, 1959, 1960, 1961, 1962, 1963, 1964, 1965,\n",
       "       1966, 1967, 1968, 1969, 1970, 1971, 1972, 1973, 1974, 1975, 1976,\n",
       "       1977, 1978, 1979, 1980, 1981, 1982, 1983, 1984, 1985, 1986, 1987,\n",
       "       1988, 1989, 1990, 1991, 1992, 1993, 1994, 1995, 1996, 1997, 1998,\n",
       "       1999, 2000, 2001, 2002, 2003, 2004, 2005, 2006, 2007, 2008, 2009,\n",
       "       2010, 2011, 2012, 2071, 2072, 2073, 2074, 2075, 2076, 2077, 2078,\n",
       "       2079, 2080, 2081, 2082, 2083, 2084, 2085, 2086, 2087, 2088, 2089,\n",
       "       2090, 3495, 3496, 3497, 3498, 3499, 3500, 3501, 3502, 3503, 3504,\n",
       "       3505, 3506, 3507, 3508, 3509, 3510, 3511, 3512, 3513, 3514, 3515,\n",
       "       3516, 3517, 3518, 3540, 3541, 3542, 3543, 3544, 3545, 3546, 3547,\n",
       "       3548, 3549, 3550, 3551, 3552, 3553, 3554, 3620, 3621, 3622, 3623,\n",
       "       3624, 3625, 3626, 3627, 3628, 3629, 3630, 3631, 3632, 3633, 3634,\n",
       "       3635, 3636, 3678, 3679, 3680, 3681, 3682, 3683, 3684, 3685, 3686,\n",
       "       3687, 3688, 3689, 3690, 3691, 3692, 3693, 3694, 3695, 3696, 3697,\n",
       "       3698, 3699, 3700, 3701, 3702, 3703, 3704, 3705, 3706, 3707, 3708,\n",
       "       3709, 3710, 3711, 3712, 3713, 3714, 3715, 3716, 3717, 3718, 3719,\n",
       "       3720, 3721, 3722, 3723, 3724, 3725, 3727, 3728, 3729, 3730, 3731,\n",
       "       3732, 3733, 3734, 3735, 3736, 3737, 3738, 3739, 3740, 3741, 3742,\n",
       "       3743, 3744, 3745, 3746, 3747, 3748, 3749, 3750, 3751, 3752, 3753,\n",
       "       3754, 3755, 3756, 3757, 3758, 3759, 3782, 3783, 3784, 3785, 3786,\n",
       "       3787, 3788, 3789, 3790, 3791, 3792, 3793, 3794, 3795, 3796, 3797,\n",
       "       3798, 3799, 3800, 3801, 3802, 3803, 3804, 3805, 3806, 3807, 3808,\n",
       "       3809, 3862, 3863, 3864, 3865, 3866, 3867, 3868, 3869, 3870, 3871,\n",
       "       3872, 3873, 3874, 3875, 3876, 3877, 3878, 3879, 3880, 3881, 3882,\n",
       "       3883, 3884, 3885, 3886, 3887, 3888, 3889, 3890, 3891, 3892, 3893,\n",
       "       3894, 3895, 3896, 3897, 3898, 3899, 3900, 3901, 3902, 3903, 4685,\n",
       "       4686, 4687, 4688, 4689, 4690, 4691, 4692, 4693, 4694, 5498, 5499,\n",
       "       5500, 5501, 5502, 5503, 5504, 5505, 5506, 5507, 5508, 5509, 5510,\n",
       "       5511, 5512, 5513, 5514, 5515, 5516, 5517, 5518, 5519, 5520, 5521,\n",
       "       5522, 5523, 5524, 5525])"
      ]
     },
     "execution_count": 8,
     "metadata": {},
     "output_type": "execute_result"
    }
   ],
   "source": [
    "non_empty_rows = np.where(image_data_bw.max(axis=0)>0)[0]\n",
    "print non_empty_rows.shape\n",
    "non_empty_rows"
   ]
  },
  {
   "cell_type": "code",
   "execution_count": 9,
   "metadata": {
    "collapsed": false
   },
   "outputs": [
    {
     "name": "stdout",
     "output_type": "stream",
     "text": [
      "(290,)\n"
     ]
    },
    {
     "data": {
      "text/plain": [
       "array([   0,    1,    2,    3,    4,    5,    6,    7,    8,    9,   10,\n",
       "         11,   12,   13,   14,   15,   16,   17,   18,   19,   20,   21,\n",
       "         22,   23,   24,   25,   26,   27,   28,   29,   30,   31,   32,\n",
       "         33,   34,   35,   36,   37,   38,   39,   40,   41,   42,   43,\n",
       "         44,   45,   46,   47,   48, 1293, 1294, 1295, 1296, 1297, 1298,\n",
       "       1299, 1300, 1301, 1302, 1303, 1304, 1305, 1306, 1307, 1308, 1309,\n",
       "       1310, 1311, 1312, 1313, 1314, 1315, 1316, 1317, 1318, 1319, 1320,\n",
       "       1321, 1322, 1323, 1324, 1325, 1326, 1327, 1328, 1329, 1456, 1457,\n",
       "       1458, 1459, 1460, 1461, 1462, 1463, 1464, 1465, 1466, 1467, 1468,\n",
       "       1469, 1470, 1471, 1472, 1473, 1474, 1475, 1476, 1477, 1478, 1479,\n",
       "       1480, 1481, 1482, 1483, 1484, 1485, 1486, 1487, 1488, 1489, 1490,\n",
       "       1491, 1492, 1595, 1596, 1597, 1598, 1599, 1600, 1601, 1602, 1603,\n",
       "       1782, 1783, 1784, 1785, 1786, 1787, 1788, 1789, 1790, 1791, 1792,\n",
       "       1793, 1794, 1795, 1796, 1797, 1856, 1857, 1858, 1859, 1860, 1861,\n",
       "       1882, 1883, 1884, 1885, 1886, 1887, 1888, 1889, 1890, 1897, 1898,\n",
       "       1899, 1900, 1901, 1902, 1903, 1904, 1905, 1906, 1907, 3224, 3225,\n",
       "       3226, 3227, 3228, 3229, 3230, 3231, 3232, 3317, 3318, 3319, 3320,\n",
       "       3321, 3322, 3323, 3324, 3325, 3326, 3327, 3328, 3329, 3330, 3331,\n",
       "       3332, 3333, 3334, 3335, 3336, 3337, 3338, 3339, 3451, 3452, 3453,\n",
       "       3454, 3455, 3602, 3603, 3604, 3605, 3606, 3607, 3608, 3609, 3610,\n",
       "       3611, 3612, 3613, 3614, 3615, 3616, 3617, 3618, 3619, 3620, 3621,\n",
       "       3622, 3623, 3777, 3778, 3779, 3780, 3781, 3782, 3783, 3784, 3785,\n",
       "       3786, 3787, 3788, 3789, 3790, 3791, 3792, 3793, 3801, 3802, 3803,\n",
       "       3804, 3805, 3806, 3807, 3808, 3825, 3826, 3827, 3828, 3829, 3830,\n",
       "       3831, 4255, 4256, 4257, 4258, 4259, 4260, 4261, 4262, 4263, 4264,\n",
       "       4265, 4266, 4267, 4268, 4269, 4270, 4271, 4272, 4273, 4274, 4275,\n",
       "       4276, 4277, 4278, 4279])"
      ]
     },
     "execution_count": 9,
     "metadata": {},
     "output_type": "execute_result"
    }
   ],
   "source": [
    "non_empty_columns = np.where(image_data_bw.max(axis=1)>0)[0]\n",
    "print non_empty_columns.shape\n",
    "non_empty_columns"
   ]
  },
  {
   "cell_type": "code",
   "execution_count": 1,
   "metadata": {
    "collapsed": false
   },
   "outputs": [],
   "source": [
    "# cropBox = (min(non_empty_columns), max(non_empty_columns), min(non_empty_rows), max(non_empty_rows))\n",
    "# cropBox"
   ]
  },
  {
   "cell_type": "code",
   "execution_count": 10,
   "metadata": {
    "collapsed": false
   },
   "outputs": [],
   "source": [
    "# image_data_new = image_data[cropBox[0]:cropBox[1]+1, cropBox[2]:cropBox[3]+1 , :]\n",
    "image_data_new = image_data[1293:1329, 0:38 , :]\n",
    "new_image = Image.fromarray(image_data_new)\n",
    "new_image.save('QQQ.tiff')"
   ]
  }
 ],
 "metadata": {
  "kernelspec": {
   "display_name": "Python 2",
   "language": "python",
   "name": "python2"
  },
  "language_info": {
   "codemirror_mode": {
    "name": "ipython",
    "version": 2
   },
   "file_extension": ".py",
   "mimetype": "text/x-python",
   "name": "python",
   "nbconvert_exporter": "python",
   "pygments_lexer": "ipython2",
   "version": "2.7.6"
  }
 },
 "nbformat": 4,
 "nbformat_minor": 0
}
